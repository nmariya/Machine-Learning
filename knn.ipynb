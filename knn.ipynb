{
  "nbformat": 4,
  "nbformat_minor": 0,
  "metadata": {
    "colab": {
      "name": "Assignment1_knn.ipynb",
      "provenance": [],
      "collapsed_sections": []
    },
    "kernelspec": {
      "name": "python3",
      "display_name": "Python 3"
    }
  },
  "cells": [
    {
      "cell_type": "markdown",
      "metadata": {
        "id": "JFXZug066bJX"
      },
      "source": [
        "# Upload files in Google Colab\n",
        "If you are running this Jupyter Notebook on Google Colab, run this cell to upload the data files (train_inputs.csv, train_labels.csv, test_inputs.csv, test_labels.csv) in the Colab virtual machine.  You will be prompted to select files that you would like to upload. \n",
        "\n",
        "If you are running this Jupyter Notebook on your computer, you do not need to run this cell."
      ]
    },
    {
      "cell_type": "code",
      "metadata": {
        "id": "dqBJV_Br4XeI",
        "outputId": "21e6b25a-679d-4b54-cb3c-895a8c8ad8b2",
        "colab": {
          "resources": {
            "http://localhost:8080/nbextensions/google.colab/files.js": {
              "data": "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",
              "ok": true,
              "headers": [
                [
                  "content-type",
                  "application/javascript"
                ]
              ],
              "status": 200,
              "status_text": ""
            }
          },
          "base_uri": "https://localhost:8080/",
          "height": 212
        }
      },
      "source": [
        "from google.colab import files\n",
        "uploaded = files.upload()\n",
        "%ls"
      ],
      "execution_count": 1,
      "outputs": [
        {
          "output_type": "display_data",
          "data": {
            "text/html": [
              "\n",
              "     <input type=\"file\" id=\"files-04a2be0a-6b9e-4cec-9a7c-0b10bed7d818\" name=\"files[]\" multiple disabled\n",
              "        style=\"border:none\" />\n",
              "     <output id=\"result-04a2be0a-6b9e-4cec-9a7c-0b10bed7d818\">\n",
              "      Upload widget is only available when the cell has been executed in the\n",
              "      current browser session. Please rerun this cell to enable.\n",
              "      </output>\n",
              "      <script src=\"/nbextensions/google.colab/files.js\"></script> "
            ],
            "text/plain": [
              "<IPython.core.display.HTML object>"
            ]
          },
          "metadata": {
            "tags": []
          }
        },
        {
          "output_type": "stream",
          "text": [
            "Saving test_inputs.csv to test_inputs.csv\n",
            "Saving test_labels.csv to test_labels.csv\n",
            "Saving train_inputs.csv to train_inputs.csv\n",
            "Saving train_labels.csv to train_labels.csv\n",
            "\u001b[0m\u001b[01;34msample_data\u001b[0m/     test_labels.csv   train_labels.csv\n",
            "test_inputs.csv  train_inputs.csv\n"
          ],
          "name": "stdout"
        }
      ]
    },
    {
      "cell_type": "markdown",
      "metadata": {
        "id": "LZDpxE4jmFwA"
      },
      "source": [
        "# Import libraries \n",
        "Do not use any other Python library."
      ]
    },
    {
      "cell_type": "code",
      "metadata": {
        "id": "m_1d0BPfmacB"
      },
      "source": [
        "import numpy as np\n",
        "import matplotlib.pyplot as plt"
      ],
      "execution_count": 2,
      "outputs": []
    },
    {
      "cell_type": "markdown",
      "metadata": {
        "id": "NYesJygrmgHM"
      },
      "source": [
        "# Function: load_knn_data\n",
        "\n",
        "This function loads the data for KNN from a local drive into RAM\n",
        "\n",
        "Outputs:\n",
        "\n",
        "*   **train_inputs**: numpy array of N training data points x M features\n",
        "*   **train_labels**: numpy array of N training labels\n",
        "*   **test_inputs**: numpy array of N' test data points x M features\n",
        "*   **test_labels**: numpy array of N' test labels\n",
        "\n",
        "\n",
        "\n",
        "\n",
        "  \n",
        "\n"
      ]
    },
    {
      "cell_type": "code",
      "metadata": {
        "id": "7goFIgwnomoo"
      },
      "source": [
        "def load_knn_data():\n",
        "  test_inputs = np.genfromtxt('test_inputs.csv', delimiter=',')\n",
        "  test_labels = np.genfromtxt('test_labels.csv', delimiter=',')\n",
        "  train_inputs = np.genfromtxt('train_inputs.csv', delimiter=',')\n",
        "  train_labels = np.genfromtxt('train_labels.csv', delimiter=',')\n",
        "  return train_inputs, train_labels, test_inputs, test_labels"
      ],
      "execution_count": 7,
      "outputs": []
    },
    {
      "cell_type": "markdown",
      "metadata": {
        "id": "Y87Mnf21owf0"
      },
      "source": [
        "# Function: predict_knn\n",
        "\n",
        "This function uses the KNN classifier to predict the label of a data point.\n",
        "\n",
        "Inputs:\n",
        "*   **x**: input data point for which we want to predict the label (numpy array of M features)\n",
        "*   **inputs**: matrix of data points in which neighbours will be found (numpy array of N data points x M features)\n",
        "*   **labels**: vector of labels associated with the data points  (numpy array of N labels)\n",
        "*   **k_neighbours**: # of nearest neighbours that will be used\n",
        "\n",
        "Output:\n",
        "*   **predicted_label**: predicted label (integer)\n",
        "\n",
        "\n"
      ]
    },
    {
      "cell_type": "code",
      "metadata": {
        "id": "MNXK7L5wpOEa"
      },
      "source": [
        "def predict_knn(x, inputs, labels, k_neighbours):\n",
        "\n",
        "  b = x\n",
        "  predicted_label = 0\n",
        "  euc_dist = []\n",
        "  euc_dist_index = []\n",
        "  for i in range(len(inputs)):\n",
        "    a = inputs[i]\n",
        "    dist = np.linalg.norm(a - b)\n",
        "    euc_dist.append(dist)\n",
        "  euc_dist_index = sorted(range(len(euc_dist)), key = lambda k1: euc_dist[k1])\n",
        "  index = euc_dist_index[0:k_neighbours]\n",
        "  p = []\n",
        "  for m in range(len(index)):\n",
        "    p.append(int(train_labels[index[m]]))\n",
        "  #print(p)\n",
        "  avg = average(p)\n",
        "  #print(avg)\n",
        "  if avg == 5.5:\n",
        "    predicted_label = 6\n",
        "  elif avg < 5.5:\n",
        "    predicted_label = 5\n",
        "  else:\n",
        "    predicted_label = 6\n",
        "  return predicted_label"
      ],
      "execution_count": 6,
      "outputs": []
    },
    {
      "cell_type": "markdown",
      "metadata": {
        "id": "I7bIamtprLxK"
      },
      "source": [
        "# Function: eval_knn\n",
        "\n",
        "Function that evaluates the accuracy of the KNN classifier on a dataset.  The dataset to be evaluated consists of (inputs, labels).  The dataset used to find nearest neighbours consists of (train_inputs, train_labels).\n",
        "\n",
        "Inputs:\n",
        "*   **inputs**: matrix of input data points to be evaluated (numpy array of N data points x M features)\n",
        "*   **labels**: vector of target labels for the inputs (numpy array of N labels)\n",
        "*   **train_inputs**: matrix of input data points in which neighbours will be found (numpy array of N' data points x M features)\n",
        "*   **train_labels**: vector of labels for the training inputs (numpy array of N' labels)\n",
        "*   **k_neighbours**: # of nearest neighbours to be used (integer)\n",
        "\n",
        "Outputs:\n",
        "*   **accuracy**: percentage of correctly labeled data points (float)\n",
        "\n",
        "\n"
      ]
    },
    {
      "cell_type": "code",
      "metadata": {
        "id": "MCQe7L8XrjdI"
      },
      "source": [
        "def eval_knn(inputs, labels, train_inputs, train_labels, k_neighbours):\n",
        "\n",
        "  accuracy = 0\n",
        "  len_test = len(inputs)\n",
        "  len_train = len(train_inputs)\n",
        "  predict_list = []\n",
        "  for i in range(len_test):\n",
        "    b = inputs[i]\n",
        "    euc_dist = []\n",
        "    euc_dist_index = []\n",
        "    for j in range(len_train):\n",
        "      a = train_inputs[j]\n",
        "      dist = np.linalg.norm(a - b)\n",
        "      euc_dist.append(dist)\n",
        "    euc_dist_index = sorted(range(len(euc_dist)), key = lambda k1: euc_dist[k1])\n",
        "    index = euc_dist_index[0:k_neighbours]\n",
        "    p = []\n",
        "    for m in range(len(index)):\n",
        "      p.append(int(train_labels[index[m]]))\n",
        "    avg = average(p)\n",
        "    if avg == 5.5:\n",
        "      predict = 6\n",
        "    elif avg < 5.5:\n",
        "      predict = 5\n",
        "    else:\n",
        "      predict = 6\n",
        "    predict_list.append(predict)\n",
        "  c = 0\n",
        "  for l1,l2 in zip(predict_list, labels):\n",
        "    if l1 == l2:\n",
        "      c = c + 1\n",
        "  accuracy = (c/len_test)*100\n",
        "  return accuracy"
      ],
      "execution_count": 5,
      "outputs": []
    },
    {
      "cell_type": "markdown",
      "metadata": {
        "id": "rXNO9nXb1beV"
      },
      "source": [
        "# Function: cross_validation_knn\n",
        "\n",
        "This function performs k-fold cross validation to determine the best number of neighbours for KNN.\n",
        "\n",
        "Inputs:\n",
        "*   **k_folds**: # of folds in cross-validation (integer)\n",
        "*   **hyperparameters**: list of hyperparameters where each hyperparameter is a different # of neighbours (list of integers)\n",
        "*   **inputs**: matrix of data points to be used when searching for neighbours (numpy array of N data points by M features)\n",
        "*   **labels**: vector of labels associated with the inputs (numpy array of N labels)\n",
        "\n",
        "Outputs:\n",
        "*   **best_hyperparam**: best # of neighbours for KNN (integer)\n",
        "*   **best_accuracy**: accuracy achieved with best_hyperparam (float)\n",
        "*   **accuracies**: vector of accuracies for the corresponding hyperparameters (numpy array of floats)\n",
        "\n",
        "\n",
        "\n"
      ]
    },
    {
      "cell_type": "code",
      "metadata": {
        "id": "nxxHyJpplFJY"
      },
      "source": [
        "def average(lst):\n",
        "  return sum(lst) / len(lst)"
      ],
      "execution_count": 8,
      "outputs": []
    },
    {
      "cell_type": "code",
      "metadata": {
        "id": "VpHnYR3x1mFZ"
      },
      "source": [
        "def cross_validation_knn(k_folds, hyperparameters, inputs, labels):\n",
        " \n",
        "  best_hyperparam = 0\n",
        "  best_accuracy = 0\n",
        "  accuracies = []\n",
        "  acc_stag = []\n",
        "  acc = []\n",
        "  hyp_param = []\n",
        "  for param in hyperparameters:\n",
        "    hyp_param.append(param)\n",
        "    x = np.array_split(inputs, k_folds, axis=0)\n",
        "    x_lab = np.array_split(labels, k_folds, axis=0)\n",
        "    predict_list = []\n",
        "    val_list = []\n",
        "    for i in range(k_folds):\n",
        "      val_inputs = x[i]\n",
        "      val_labels = x_lab[i]\n",
        "      val_length = len(val_inputs)\n",
        "      for s in range(val_length):\n",
        "        val_list.append(int(val_labels[s]))\n",
        "      for k in range(val_length):\n",
        "        euc_dist = []\n",
        "        euc_dist_index = []\n",
        "        b = val_inputs[k]\n",
        "        for j in range(k_folds):\n",
        "          if j != i:\n",
        "            inp_length = len(x[j])\n",
        "            for l in range(inp_length):\n",
        "              a = x[j][l]\n",
        "              dist = np.linalg.norm(a - b)\n",
        "              euc_dist.append(dist)\n",
        "        euc_dist_index = sorted(range(len(euc_dist)), key = lambda k1: euc_dist[k1])\n",
        "        index = euc_dist_index[0:param]\n",
        "        j_lab = np.delete(x_lab, i, axis=0)\n",
        "        p = []\n",
        "        for m in range(len(index)):\n",
        "          conv_ind = index[m]//100\n",
        "          conv_ind1 = index[m]%100\n",
        "          p.append(j_lab[conv_ind][conv_ind1])\n",
        "        if len(p) > 1:\n",
        "          avg = average(p)\n",
        "          if avg == 5.5:\n",
        "            predict = 6\n",
        "          elif avg < 5.5:\n",
        "            predict = 5\n",
        "          else:\n",
        "            predict = 6\n",
        "        elif len(p) == 1:\n",
        "          predict = int(p[0])\n",
        "        predict_list.append(predict)\n",
        "    c = 0\n",
        "    for l1,l2 in zip(predict_list, val_list):\n",
        "      if l1 == l2:\n",
        "        c = c + 1\n",
        "    accuracy = round((c/len(predict_list))*100, 2)\n",
        "    accuracies.append(accuracy)\n",
        "    acc_stag.append(accuracy)\n",
        "    acc.append(accuracy)\n",
        "  acc.sort(reverse = True)\n",
        "  par_index = sorted(range(len(acc_stag)), key = lambda k1: acc_stag[k1])\n",
        "  best_hyperparam = hyp_param[par_index[-1]]\n",
        "  best_accuracy = acc[0]\n",
        "  return best_hyperparam, best_accuracy, accuracies"
      ],
      "execution_count": 4,
      "outputs": []
    },
    {
      "cell_type": "markdown",
      "metadata": {
        "id": "qb31YTWg4rSm"
      },
      "source": [
        "# Function: plot_knn_accuracies\n",
        "\n",
        "Function that plots the KNN accuracies for different # of neighbours (hyperparameters) based on cross validation\n",
        "\n",
        "Inputs:\n",
        "*   **accuracies**: vector of accuracies for the corresponding hyperparameters (numpy array of floats)\n",
        "*   **hyperparams**: list of hyperparameters where each hyperparameter is a different # of neighbours (list of integers)\n"
      ]
    },
    {
      "cell_type": "code",
      "metadata": {
        "id": "MpbE_-Yt5HiI"
      },
      "source": [
        "def plot_knn_accuracies(accuracies,hyperparams):\n",
        "  plt.plot(hyperparams,accuracies)\n",
        "  plt.ylabel('accuracy')\n",
        "  plt.xlabel('k neighbours')\n",
        "  plt.show()  "
      ],
      "execution_count": 9,
      "outputs": []
    },
    {
      "cell_type": "markdown",
      "metadata": {
        "id": "iF2YiZnMaws8"
      },
      "source": [
        "# Main KNN code\n",
        "\n",
        "Load data.\n",
        "Use k-fold cross validation to find the best # of neighbours for KNN.\n",
        "Plot accuracies for different # of neighbours.\n",
        "Test KNN with the best # of neighbours."
      ]
    },
    {
      "cell_type": "code",
      "metadata": {
        "id": "Qw6MLmQ8bpA1",
        "outputId": "58912d2d-b77d-42da-c656-66d98449ec40",
        "colab": {
          "base_uri": "https://localhost:8080/",
          "height": 331
        }
      },
      "source": [
        "# This code takes 3 minutes to run\n",
        "# load data\n",
        "train_inputs, train_labels, test_inputs, test_labels = load_knn_data()\n",
        "\n",
        "# number of neighbours to be evaluated by cross validation\n",
        "hyperparams = range(1,31)\n",
        "k_folds = 10\n",
        "best_k_neighbours, best_accuracy, accuracies = cross_validation_knn(k_folds, hyperparams, train_inputs, train_labels)\n",
        "\n",
        "# plot results\n",
        "plot_knn_accuracies(accuracies, hyperparams)\n",
        "print('best # of neighbours k: ' + str(best_k_neighbours))\n",
        "print('best cross validation accuracy: ' + str(best_accuracy))\n",
        "\n",
        "# evaluate with best # of neighbours\n",
        "accuracy = eval_knn(test_inputs, test_labels, train_inputs, train_labels, best_k_neighbours)\n",
        "print('test accuracy: '+ str(accuracy))"
      ],
      "execution_count": 12,
      "outputs": [
        {
          "output_type": "display_data",
          "data": {
            "image/png": "[encoded data removed]",
            "text/plain": [
              "<Figure size 432x288 with 1 Axes>"
            ]
          },
          "metadata": {
            "tags": [],
            "needs_background": "light"
          }
        },
        {
          "output_type": "stream",
          "text": [
            "best # of neighbours k: 11\n",
            "best cross validation accuracy: 79.0\n",
            "test accuracy: 77.27272727272727\n"
          ],
          "name": "stdout"
        }
      ]
    }
  ]
}